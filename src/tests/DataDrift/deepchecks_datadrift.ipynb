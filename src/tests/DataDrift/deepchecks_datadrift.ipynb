{
 "cells": [
  {
   "cell_type": "markdown",
   "metadata": {},
   "source": [
    "In this notebook, we assess our data using the Deepchecks library, specifically utilizing the Tabular Sub-Package for data drift.\n",
    "\n",
    "Drift refers to the evolving pattern of data distribution over time, and it stands out as a primary factor contributing to the deterioration of a machine learning model's performance as time progresses.\n",
    "\n",
    "We first import the needed libraries. If errors related to the deepchecks libray occur, we suggest to install the deepchecks library with pip in your virtual environment. Here is the command you need to run: pip install deepchecks"
   ]
  },
  {
   "cell_type": "code",
   "execution_count": 17,
   "metadata": {},
   "outputs": [],
   "source": [
    "import pandas as pd\n",
    "import os\n",
    "import sys\n",
    "import pandas as pd\n",
    "from deepchecks.tabular.checks import FeatureDrift\n",
    "from deepchecks.tabular.checks import MultivariateDrift\n",
    "from deepchecks.tabular import Dataset"
   ]
  },
  {
   "cell_type": "markdown",
   "metadata": {},
   "source": [
    "# With Categorical Features"
   ]
  },
  {
   "cell_type": "markdown",
   "metadata": {},
   "source": [
    "In this section we will check data drift on the full dataset including the categorical features"
   ]
  },
  {
   "cell_type": "code",
   "execution_count": 18,
   "metadata": {},
   "outputs": [],
   "source": [
    "current_dir = os.getcwd()\n",
    "two_levels_up = os.path.dirname(os.path.dirname(current_dir))\n",
    "sys.path.insert(0, two_levels_up)\n",
    "import conf"
   ]
  },
  {
   "cell_type": "code",
   "execution_count": 19,
   "metadata": {},
   "outputs": [],
   "source": [
    "three_levels_up = os.path.dirname(os.path.dirname(os.path.dirname(current_dir)))\n",
    "sys.path.insert(0, three_levels_up)\n",
    "# Processed Data\n",
    "processed_train_data_directory = three_levels_up + '/'+ conf.PRO_DATA_DIR + 'trainSet.csv'\n",
    "processed_test_data_directory = three_levels_up + '/'+ conf.PRO_DATA_DIR + 'testSet.csv'"
   ]
  },
  {
   "cell_type": "code",
   "execution_count": 20,
   "metadata": {},
   "outputs": [
    {
     "data": {
      "text/html": [
       "<div>\n",
       "<style scoped>\n",
       "    .dataframe tbody tr th:only-of-type {\n",
       "        vertical-align: middle;\n",
       "    }\n",
       "\n",
       "    .dataframe tbody tr th {\n",
       "        vertical-align: top;\n",
       "    }\n",
       "\n",
       "    .dataframe thead th {\n",
       "        text-align: right;\n",
       "    }\n",
       "</style>\n",
       "<table border=\"1\" class=\"dataframe\">\n",
       "  <thead>\n",
       "    <tr style=\"text-align: right;\">\n",
       "      <th></th>\n",
       "      <th>Name</th>\n",
       "      <th>Artist</th>\n",
       "      <th>Energy</th>\n",
       "      <th>Liveness</th>\n",
       "      <th>Loudness</th>\n",
       "    </tr>\n",
       "  </thead>\n",
       "  <tbody>\n",
       "    <tr>\n",
       "      <th>0</th>\n",
       "      <td>Serotonin</td>\n",
       "      <td>Call Me Karizma</td>\n",
       "      <td>0.418</td>\n",
       "      <td>0.159</td>\n",
       "      <td>0.671575</td>\n",
       "    </tr>\n",
       "    <tr>\n",
       "      <th>1</th>\n",
       "      <td>Joy</td>\n",
       "      <td>Thornhill</td>\n",
       "      <td>0.910</td>\n",
       "      <td>0.252</td>\n",
       "      <td>0.897120</td>\n",
       "    </tr>\n",
       "    <tr>\n",
       "      <th>2</th>\n",
       "      <td>Like</td>\n",
       "      <td>Alissic</td>\n",
       "      <td>0.423</td>\n",
       "      <td>0.143</td>\n",
       "      <td>0.691744</td>\n",
       "    </tr>\n",
       "    <tr>\n",
       "      <th>3</th>\n",
       "      <td>Can You Afford to Be An Individual?</td>\n",
       "      <td>Nothing But Thieves</td>\n",
       "      <td>0.859</td>\n",
       "      <td>0.127</td>\n",
       "      <td>0.794126</td>\n",
       "    </tr>\n",
       "    <tr>\n",
       "      <th>4</th>\n",
       "      <td>This Feels Like the End</td>\n",
       "      <td>Nothing But Thieves</td>\n",
       "      <td>0.899</td>\n",
       "      <td>0.241</td>\n",
       "      <td>0.756586</td>\n",
       "    </tr>\n",
       "    <tr>\n",
       "      <th>...</th>\n",
       "      <td>...</td>\n",
       "      <td>...</td>\n",
       "      <td>...</td>\n",
       "      <td>...</td>\n",
       "      <td>...</td>\n",
       "    </tr>\n",
       "    <tr>\n",
       "      <th>605</th>\n",
       "      <td>Tomorrow Is Closed</td>\n",
       "      <td>Nothing But Thieves</td>\n",
       "      <td>0.835</td>\n",
       "      <td>0.155</td>\n",
       "      <td>0.848115</td>\n",
       "    </tr>\n",
       "    <tr>\n",
       "      <th>606</th>\n",
       "      <td>Do You Love Me Yet?</td>\n",
       "      <td>Nothing But Thieves</td>\n",
       "      <td>0.801</td>\n",
       "      <td>0.108</td>\n",
       "      <td>0.791058</td>\n",
       "    </tr>\n",
       "    <tr>\n",
       "      <th>607</th>\n",
       "      <td>Welcome to the DCC</td>\n",
       "      <td>Nothing But Thieves</td>\n",
       "      <td>0.748</td>\n",
       "      <td>0.129</td>\n",
       "      <td>0.845661</td>\n",
       "    </tr>\n",
       "    <tr>\n",
       "      <th>608</th>\n",
       "      <td>CODE MISTAKE</td>\n",
       "      <td>CORPSE</td>\n",
       "      <td>0.967</td>\n",
       "      <td>0.203</td>\n",
       "      <td>0.889835</td>\n",
       "    </tr>\n",
       "    <tr>\n",
       "      <th>609</th>\n",
       "      <td>Kingdom Of Cards</td>\n",
       "      <td>Bad Omens</td>\n",
       "      <td>0.873</td>\n",
       "      <td>0.136</td>\n",
       "      <td>0.805667</td>\n",
       "    </tr>\n",
       "  </tbody>\n",
       "</table>\n",
       "<p>610 rows × 5 columns</p>\n",
       "</div>"
      ],
      "text/plain": [
       "                                    Name               Artist  Energy  \\\n",
       "0                              Serotonin      Call Me Karizma   0.418   \n",
       "1                                    Joy            Thornhill   0.910   \n",
       "2                                   Like              Alissic   0.423   \n",
       "3    Can You Afford to Be An Individual?  Nothing But Thieves   0.859   \n",
       "4                This Feels Like the End  Nothing But Thieves   0.899   \n",
       "..                                   ...                  ...     ...   \n",
       "605                   Tomorrow Is Closed  Nothing But Thieves   0.835   \n",
       "606                  Do You Love Me Yet?  Nothing But Thieves   0.801   \n",
       "607                   Welcome to the DCC  Nothing But Thieves   0.748   \n",
       "608                         CODE MISTAKE               CORPSE   0.967   \n",
       "609                     Kingdom Of Cards            Bad Omens   0.873   \n",
       "\n",
       "     Liveness  Loudness  \n",
       "0       0.159  0.671575  \n",
       "1       0.252  0.897120  \n",
       "2       0.143  0.691744  \n",
       "3       0.127  0.794126  \n",
       "4       0.241  0.756586  \n",
       "..        ...       ...  \n",
       "605     0.155  0.848115  \n",
       "606     0.108  0.791058  \n",
       "607     0.129  0.845661  \n",
       "608     0.203  0.889835  \n",
       "609     0.136  0.805667  \n",
       "\n",
       "[610 rows x 5 columns]"
      ]
     },
     "execution_count": 20,
     "metadata": {},
     "output_type": "execute_result"
    }
   ],
   "source": [
    "df_processed_train = pd.read_csv(processed_train_data_directory)\n",
    "df_processed_train"
   ]
  },
  {
   "cell_type": "code",
   "execution_count": 21,
   "metadata": {},
   "outputs": [
    {
     "data": {
      "text/html": [
       "<div>\n",
       "<style scoped>\n",
       "    .dataframe tbody tr th:only-of-type {\n",
       "        vertical-align: middle;\n",
       "    }\n",
       "\n",
       "    .dataframe tbody tr th {\n",
       "        vertical-align: top;\n",
       "    }\n",
       "\n",
       "    .dataframe thead th {\n",
       "        text-align: right;\n",
       "    }\n",
       "</style>\n",
       "<table border=\"1\" class=\"dataframe\">\n",
       "  <thead>\n",
       "    <tr style=\"text-align: right;\">\n",
       "      <th></th>\n",
       "      <th>Name</th>\n",
       "      <th>Artist</th>\n",
       "      <th>Energy</th>\n",
       "      <th>Liveness</th>\n",
       "      <th>Loudness</th>\n",
       "    </tr>\n",
       "  </thead>\n",
       "  <tbody>\n",
       "    <tr>\n",
       "      <th>0</th>\n",
       "      <td>Blinding Lights</td>\n",
       "      <td>The Weeknd</td>\n",
       "      <td>0.730</td>\n",
       "      <td>0.0897</td>\n",
       "      <td>0.756423</td>\n",
       "    </tr>\n",
       "    <tr>\n",
       "      <th>1</th>\n",
       "      <td>Shape of You</td>\n",
       "      <td>Ed Sheeran</td>\n",
       "      <td>0.652</td>\n",
       "      <td>0.0931</td>\n",
       "      <td>0.927975</td>\n",
       "    </tr>\n",
       "    <tr>\n",
       "      <th>2</th>\n",
       "      <td>Dance Monkey</td>\n",
       "      <td>Tones And I</td>\n",
       "      <td>0.588</td>\n",
       "      <td>0.1490</td>\n",
       "      <td>0.727363</td>\n",
       "    </tr>\n",
       "    <tr>\n",
       "      <th>3</th>\n",
       "      <td>Someone You Loved</td>\n",
       "      <td>Lewis Capaldi</td>\n",
       "      <td>0.405</td>\n",
       "      <td>0.1050</td>\n",
       "      <td>0.772325</td>\n",
       "    </tr>\n",
       "    <tr>\n",
       "      <th>4</th>\n",
       "      <td>Sunflower - Spider-Man: Into the Spider-Verse</td>\n",
       "      <td>Post Malone</td>\n",
       "      <td>0.522</td>\n",
       "      <td>0.0685</td>\n",
       "      <td>0.854078</td>\n",
       "    </tr>\n",
       "    <tr>\n",
       "      <th>...</th>\n",
       "      <td>...</td>\n",
       "      <td>...</td>\n",
       "      <td>...</td>\n",
       "      <td>...</td>\n",
       "      <td>...</td>\n",
       "    </tr>\n",
       "    <tr>\n",
       "      <th>495</th>\n",
       "      <td>Hey There Delilah</td>\n",
       "      <td>Plain White T's</td>\n",
       "      <td>0.291</td>\n",
       "      <td>0.1140</td>\n",
       "      <td>0.467199</td>\n",
       "    </tr>\n",
       "    <tr>\n",
       "      <th>496</th>\n",
       "      <td>idontwannabeyouanymore</td>\n",
       "      <td>Billie Eilish</td>\n",
       "      <td>0.412</td>\n",
       "      <td>0.1160</td>\n",
       "      <td>0.598840</td>\n",
       "    </tr>\n",
       "    <tr>\n",
       "      <th>497</th>\n",
       "      <td>Zombie</td>\n",
       "      <td>The Cranberries</td>\n",
       "      <td>0.635</td>\n",
       "      <td>0.3660</td>\n",
       "      <td>0.567910</td>\n",
       "    </tr>\n",
       "    <tr>\n",
       "      <th>498</th>\n",
       "      <td>No Lie</td>\n",
       "      <td>Sean Paul</td>\n",
       "      <td>0.882</td>\n",
       "      <td>0.2060</td>\n",
       "      <td>0.947992</td>\n",
       "    </tr>\n",
       "    <tr>\n",
       "      <th>499</th>\n",
       "      <td>Candy Paint</td>\n",
       "      <td>Post Malone</td>\n",
       "      <td>0.667</td>\n",
       "      <td>0.0753</td>\n",
       "      <td>0.755987</td>\n",
       "    </tr>\n",
       "  </tbody>\n",
       "</table>\n",
       "<p>500 rows × 5 columns</p>\n",
       "</div>"
      ],
      "text/plain": [
       "                                              Name           Artist  Energy  \\\n",
       "0                                  Blinding Lights       The Weeknd   0.730   \n",
       "1                                     Shape of You       Ed Sheeran   0.652   \n",
       "2                                     Dance Monkey      Tones And I   0.588   \n",
       "3                                Someone You Loved    Lewis Capaldi   0.405   \n",
       "4    Sunflower - Spider-Man: Into the Spider-Verse      Post Malone   0.522   \n",
       "..                                             ...              ...     ...   \n",
       "495                              Hey There Delilah  Plain White T's   0.291   \n",
       "496                         idontwannabeyouanymore    Billie Eilish   0.412   \n",
       "497                                         Zombie  The Cranberries   0.635   \n",
       "498                                         No Lie        Sean Paul   0.882   \n",
       "499                                    Candy Paint      Post Malone   0.667   \n",
       "\n",
       "     Liveness  Loudness  \n",
       "0      0.0897  0.756423  \n",
       "1      0.0931  0.927975  \n",
       "2      0.1490  0.727363  \n",
       "3      0.1050  0.772325  \n",
       "4      0.0685  0.854078  \n",
       "..        ...       ...  \n",
       "495    0.1140  0.467199  \n",
       "496    0.1160  0.598840  \n",
       "497    0.3660  0.567910  \n",
       "498    0.2060  0.947992  \n",
       "499    0.0753  0.755987  \n",
       "\n",
       "[500 rows x 5 columns]"
      ]
     },
     "execution_count": 21,
     "metadata": {},
     "output_type": "execute_result"
    }
   ],
   "source": [
    "df_processed_test = pd.read_csv(processed_test_data_directory)\n",
    "df_processed_test"
   ]
  },
  {
   "cell_type": "code",
   "execution_count": 22,
   "metadata": {},
   "outputs": [],
   "source": [
    "ds_processed_train = Dataset(df_processed_train, cat_features=['Name','Artist'])\n",
    "ds_processed_test = Dataset(df_processed_test, cat_features=['Name','Artist'])"
   ]
  },
  {
   "cell_type": "markdown",
   "metadata": {},
   "source": [
    "## Univariate"
   ]
  },
  {
   "cell_type": "markdown",
   "metadata": {},
   "source": [
    "The simplest drift detection method involves assessing one variable at a time. Measures like Kolmogorov-Smirnov test, Jensen-Shannon Divergence, etc., are used to gauge differences between newer and older samples of the variable. In deepchecks, optimal results are obtained with:\n",
    "\n",
    "- For continuous numeric distributions: Kolmogorov-Smirnov statistic or Wasserstein metric (Earth Movers Distance)\n",
    "- For discrete or categorical distributions: Cramer’s V or Population Stability Index (PSI)\n",
    "\n",
    "While these methods offer simplicity and explainable results, they check each feature individually and may miss drift in feature relationships."
   ]
  },
  {
   "cell_type": "code",
   "execution_count": 23,
   "metadata": {},
   "outputs": [
    {
     "data": {
      "application/vnd.jupyter.widget-view+json": {
       "model_id": "94d86307c6c940d8a183d3845d3df0e2",
       "version_major": 2,
       "version_minor": 0
      },
      "text/plain": [
       "VBox(children=(HTML(value='<h4><b>Feature Drift</b></h4>'), HTML(value='<p>    Calculate drift between train d…"
      ]
     },
     "metadata": {},
     "output_type": "display_data"
    }
   ],
   "source": [
    "check = FeatureDrift()\n",
    "result = check.run(train_dataset=ds_processed_train, test_dataset=ds_processed_test)\n",
    "result.show()"
   ]
  },
  {
   "cell_type": "markdown",
   "metadata": {},
   "source": [
    "## Multivariate"
   ]
  },
  {
   "cell_type": "markdown",
   "metadata": {},
   "source": [
    "\n",
    "Multivariate drift refers to changes occurring simultaneously in multiple features, potentially impacting the relationships among those features. Univariate drift methods, which examine one feature at a time, may overlook such interconnected changes. The multivariate drift check aims to identify and assess drift across multiple features within two input datasets. This check detects multivariate drift by using a domain classifier."
   ]
  },
  {
   "cell_type": "code",
   "execution_count": 24,
   "metadata": {},
   "outputs": [
    {
     "data": {
      "application/vnd.jupyter.widget-view+json": {
       "model_id": "3339f7f52a0f403297d28f2af6e50cfd",
       "version_major": 2,
       "version_minor": 0
      },
      "text/plain": [
       "VBox(children=(HTML(value='<h4><b>Multivariate Drift</b></h4>'), HTML(value='<p>    Calculate drift between th…"
      ]
     },
     "metadata": {},
     "output_type": "display_data"
    }
   ],
   "source": [
    "check = MultivariateDrift()\n",
    "check.run(train_dataset=ds_processed_train, test_dataset=ds_processed_test)"
   ]
  },
  {
   "cell_type": "markdown",
   "metadata": {},
   "source": [
    "# Numerical Features Only"
   ]
  },
  {
   "cell_type": "markdown",
   "metadata": {},
   "source": [
    "In this section, we will exclusively assess data drift in the numerical features present in our dataset. We are excluding categorical features since the current model utilizes only numerical features to generate clusters."
   ]
  },
  {
   "cell_type": "markdown",
   "metadata": {},
   "source": [
    "## Loading Dataset"
   ]
  },
  {
   "cell_type": "code",
   "execution_count": 25,
   "metadata": {},
   "outputs": [],
   "source": [
    "current_dir = os.getcwd()\n",
    "two_levels_up = os.path.dirname(os.path.dirname(current_dir))\n",
    "sys.path.insert(0, two_levels_up)\n",
    "import conf"
   ]
  },
  {
   "cell_type": "code",
   "execution_count": 26,
   "metadata": {},
   "outputs": [],
   "source": [
    "three_levels_up = os.path.dirname(os.path.dirname(os.path.dirname(current_dir)))\n",
    "sys.path.insert(0, three_levels_up)\n",
    "# Processed Data\n",
    "processed_train_data_directory = three_levels_up + '/'+ conf.PRO_DATA_DIR + 'trainSet.csv'\n",
    "processed_test_data_directory = three_levels_up + '/'+ conf.PRO_DATA_DIR + 'testSet.csv'"
   ]
  },
  {
   "cell_type": "code",
   "execution_count": 27,
   "metadata": {},
   "outputs": [
    {
     "data": {
      "text/html": [
       "<div>\n",
       "<style scoped>\n",
       "    .dataframe tbody tr th:only-of-type {\n",
       "        vertical-align: middle;\n",
       "    }\n",
       "\n",
       "    .dataframe tbody tr th {\n",
       "        vertical-align: top;\n",
       "    }\n",
       "\n",
       "    .dataframe thead th {\n",
       "        text-align: right;\n",
       "    }\n",
       "</style>\n",
       "<table border=\"1\" class=\"dataframe\">\n",
       "  <thead>\n",
       "    <tr style=\"text-align: right;\">\n",
       "      <th></th>\n",
       "      <th>Energy</th>\n",
       "      <th>Liveness</th>\n",
       "      <th>Loudness</th>\n",
       "    </tr>\n",
       "  </thead>\n",
       "  <tbody>\n",
       "    <tr>\n",
       "      <th>0</th>\n",
       "      <td>0.418</td>\n",
       "      <td>0.159</td>\n",
       "      <td>0.671575</td>\n",
       "    </tr>\n",
       "    <tr>\n",
       "      <th>1</th>\n",
       "      <td>0.910</td>\n",
       "      <td>0.252</td>\n",
       "      <td>0.897120</td>\n",
       "    </tr>\n",
       "    <tr>\n",
       "      <th>2</th>\n",
       "      <td>0.423</td>\n",
       "      <td>0.143</td>\n",
       "      <td>0.691744</td>\n",
       "    </tr>\n",
       "    <tr>\n",
       "      <th>3</th>\n",
       "      <td>0.859</td>\n",
       "      <td>0.127</td>\n",
       "      <td>0.794126</td>\n",
       "    </tr>\n",
       "    <tr>\n",
       "      <th>4</th>\n",
       "      <td>0.899</td>\n",
       "      <td>0.241</td>\n",
       "      <td>0.756586</td>\n",
       "    </tr>\n",
       "    <tr>\n",
       "      <th>...</th>\n",
       "      <td>...</td>\n",
       "      <td>...</td>\n",
       "      <td>...</td>\n",
       "    </tr>\n",
       "    <tr>\n",
       "      <th>605</th>\n",
       "      <td>0.835</td>\n",
       "      <td>0.155</td>\n",
       "      <td>0.848115</td>\n",
       "    </tr>\n",
       "    <tr>\n",
       "      <th>606</th>\n",
       "      <td>0.801</td>\n",
       "      <td>0.108</td>\n",
       "      <td>0.791058</td>\n",
       "    </tr>\n",
       "    <tr>\n",
       "      <th>607</th>\n",
       "      <td>0.748</td>\n",
       "      <td>0.129</td>\n",
       "      <td>0.845661</td>\n",
       "    </tr>\n",
       "    <tr>\n",
       "      <th>608</th>\n",
       "      <td>0.967</td>\n",
       "      <td>0.203</td>\n",
       "      <td>0.889835</td>\n",
       "    </tr>\n",
       "    <tr>\n",
       "      <th>609</th>\n",
       "      <td>0.873</td>\n",
       "      <td>0.136</td>\n",
       "      <td>0.805667</td>\n",
       "    </tr>\n",
       "  </tbody>\n",
       "</table>\n",
       "<p>610 rows × 3 columns</p>\n",
       "</div>"
      ],
      "text/plain": [
       "     Energy  Liveness  Loudness\n",
       "0     0.418     0.159  0.671575\n",
       "1     0.910     0.252  0.897120\n",
       "2     0.423     0.143  0.691744\n",
       "3     0.859     0.127  0.794126\n",
       "4     0.899     0.241  0.756586\n",
       "..      ...       ...       ...\n",
       "605   0.835     0.155  0.848115\n",
       "606   0.801     0.108  0.791058\n",
       "607   0.748     0.129  0.845661\n",
       "608   0.967     0.203  0.889835\n",
       "609   0.873     0.136  0.805667\n",
       "\n",
       "[610 rows x 3 columns]"
      ]
     },
     "execution_count": 27,
     "metadata": {},
     "output_type": "execute_result"
    }
   ],
   "source": [
    "df_processed_train = pd.read_csv(processed_train_data_directory)\n",
    "df_processed_train = df_processed_train.drop(['Artist', 'Name'], axis=1)\n",
    "df_processed_train"
   ]
  },
  {
   "cell_type": "code",
   "execution_count": 28,
   "metadata": {},
   "outputs": [
    {
     "data": {
      "text/html": [
       "<div>\n",
       "<style scoped>\n",
       "    .dataframe tbody tr th:only-of-type {\n",
       "        vertical-align: middle;\n",
       "    }\n",
       "\n",
       "    .dataframe tbody tr th {\n",
       "        vertical-align: top;\n",
       "    }\n",
       "\n",
       "    .dataframe thead th {\n",
       "        text-align: right;\n",
       "    }\n",
       "</style>\n",
       "<table border=\"1\" class=\"dataframe\">\n",
       "  <thead>\n",
       "    <tr style=\"text-align: right;\">\n",
       "      <th></th>\n",
       "      <th>Energy</th>\n",
       "      <th>Liveness</th>\n",
       "      <th>Loudness</th>\n",
       "    </tr>\n",
       "  </thead>\n",
       "  <tbody>\n",
       "    <tr>\n",
       "      <th>0</th>\n",
       "      <td>0.730</td>\n",
       "      <td>0.0897</td>\n",
       "      <td>0.756423</td>\n",
       "    </tr>\n",
       "    <tr>\n",
       "      <th>1</th>\n",
       "      <td>0.652</td>\n",
       "      <td>0.0931</td>\n",
       "      <td>0.927975</td>\n",
       "    </tr>\n",
       "    <tr>\n",
       "      <th>2</th>\n",
       "      <td>0.588</td>\n",
       "      <td>0.1490</td>\n",
       "      <td>0.727363</td>\n",
       "    </tr>\n",
       "    <tr>\n",
       "      <th>3</th>\n",
       "      <td>0.405</td>\n",
       "      <td>0.1050</td>\n",
       "      <td>0.772325</td>\n",
       "    </tr>\n",
       "    <tr>\n",
       "      <th>4</th>\n",
       "      <td>0.522</td>\n",
       "      <td>0.0685</td>\n",
       "      <td>0.854078</td>\n",
       "    </tr>\n",
       "    <tr>\n",
       "      <th>...</th>\n",
       "      <td>...</td>\n",
       "      <td>...</td>\n",
       "      <td>...</td>\n",
       "    </tr>\n",
       "    <tr>\n",
       "      <th>495</th>\n",
       "      <td>0.291</td>\n",
       "      <td>0.1140</td>\n",
       "      <td>0.467199</td>\n",
       "    </tr>\n",
       "    <tr>\n",
       "      <th>496</th>\n",
       "      <td>0.412</td>\n",
       "      <td>0.1160</td>\n",
       "      <td>0.598840</td>\n",
       "    </tr>\n",
       "    <tr>\n",
       "      <th>497</th>\n",
       "      <td>0.635</td>\n",
       "      <td>0.3660</td>\n",
       "      <td>0.567910</td>\n",
       "    </tr>\n",
       "    <tr>\n",
       "      <th>498</th>\n",
       "      <td>0.882</td>\n",
       "      <td>0.2060</td>\n",
       "      <td>0.947992</td>\n",
       "    </tr>\n",
       "    <tr>\n",
       "      <th>499</th>\n",
       "      <td>0.667</td>\n",
       "      <td>0.0753</td>\n",
       "      <td>0.755987</td>\n",
       "    </tr>\n",
       "  </tbody>\n",
       "</table>\n",
       "<p>500 rows × 3 columns</p>\n",
       "</div>"
      ],
      "text/plain": [
       "     Energy  Liveness  Loudness\n",
       "0     0.730    0.0897  0.756423\n",
       "1     0.652    0.0931  0.927975\n",
       "2     0.588    0.1490  0.727363\n",
       "3     0.405    0.1050  0.772325\n",
       "4     0.522    0.0685  0.854078\n",
       "..      ...       ...       ...\n",
       "495   0.291    0.1140  0.467199\n",
       "496   0.412    0.1160  0.598840\n",
       "497   0.635    0.3660  0.567910\n",
       "498   0.882    0.2060  0.947992\n",
       "499   0.667    0.0753  0.755987\n",
       "\n",
       "[500 rows x 3 columns]"
      ]
     },
     "execution_count": 28,
     "metadata": {},
     "output_type": "execute_result"
    }
   ],
   "source": [
    "df_processed_test = pd.read_csv(processed_test_data_directory)\n",
    "df_processed_test = df_processed_test.drop(['Artist', 'Name'], axis=1)\n",
    "df_processed_test"
   ]
  },
  {
   "cell_type": "code",
   "execution_count": 29,
   "metadata": {},
   "outputs": [
    {
     "name": "stderr",
     "output_type": "stream",
     "text": [
      "deepchecks - WARNING - It is recommended to initialize Dataset with categorical features by doing \"Dataset(df, cat_features=categorical_list)\". No categorical features were passed, therefore heuristically inferring categorical features in the data. 0 categorical features were inferred.\n",
      "deepchecks - WARNING - It is recommended to initialize Dataset with categorical features by doing \"Dataset(df, cat_features=categorical_list)\". No categorical features were passed, therefore heuristically inferring categorical features in the data. 0 categorical features were inferred.\n"
     ]
    }
   ],
   "source": [
    "ds_processed_train = Dataset(df_processed_train)\n",
    "ds_processed_test = Dataset(df_processed_test)"
   ]
  },
  {
   "cell_type": "markdown",
   "metadata": {},
   "source": [
    "## Univariate Drift"
   ]
  },
  {
   "cell_type": "markdown",
   "metadata": {},
   "source": [
    "The simplest drift detection method involves assessing one variable at a time. Measures like Kolmogorov-Smirnov test, Jensen-Shannon Divergence, etc., are used to gauge differences between newer and older samples of the variable. In deepchecks, optimal results are obtained with:\n",
    "\n",
    "- For continuous numeric distributions: Kolmogorov-Smirnov statistic or Wasserstein metric (Earth Movers Distance)\n",
    "- For discrete or categorical distributions: Cramer’s V or Population Stability Index (PSI)\n",
    "\n",
    "While these methods offer simplicity and explainable results, they check each feature individually and may miss drift in feature relationships."
   ]
  },
  {
   "cell_type": "code",
   "execution_count": 30,
   "metadata": {},
   "outputs": [
    {
     "data": {
      "application/vnd.jupyter.widget-view+json": {
       "model_id": "93d583cea9c64a69b6aa2ce7391026cc",
       "version_major": 2,
       "version_minor": 0
      },
      "text/plain": [
       "VBox(children=(HTML(value='<h4><b>Feature Drift</b></h4>'), HTML(value='<p>    Calculate drift between train d…"
      ]
     },
     "metadata": {},
     "output_type": "display_data"
    }
   ],
   "source": [
    "check = FeatureDrift()\n",
    "result = check.run(train_dataset=ds_processed_train, test_dataset=ds_processed_test)\n",
    "result.show()"
   ]
  },
  {
   "cell_type": "markdown",
   "metadata": {},
   "source": [
    "## Multivariate Drift Detection"
   ]
  },
  {
   "cell_type": "markdown",
   "metadata": {},
   "source": [
    "\n",
    "Multivariate drift refers to changes occurring simultaneously in multiple features, potentially impacting the relationships among those features. Univariate drift methods, which examine one feature at a time, may overlook such interconnected changes. The multivariate drift check aims to identify and assess drift across multiple features within two input datasets. This check detects multivariate drift by using a domain classifier."
   ]
  },
  {
   "cell_type": "code",
   "execution_count": 31,
   "metadata": {},
   "outputs": [
    {
     "data": {
      "application/vnd.jupyter.widget-view+json": {
       "model_id": "ce17b15a96da47c7a3dc823f6b1bfeec",
       "version_major": 2,
       "version_minor": 0
      },
      "text/plain": [
       "VBox(children=(HTML(value='<h4><b>Multivariate Drift</b></h4>'), HTML(value='<p>    Calculate drift between th…"
      ]
     },
     "metadata": {},
     "output_type": "display_data"
    }
   ],
   "source": [
    "check = MultivariateDrift()\n",
    "check.run(train_dataset=ds_processed_train, test_dataset=ds_processed_test)"
   ]
  }
 ],
 "metadata": {
  "kernelspec": {
   "display_name": "env",
   "language": "python",
   "name": "python3"
  },
  "language_info": {
   "codemirror_mode": {
    "name": "ipython",
    "version": 3
   },
   "file_extension": ".py",
   "mimetype": "text/x-python",
   "name": "python",
   "nbconvert_exporter": "python",
   "pygments_lexer": "ipython3",
   "version": "3.11.5"
  }
 },
 "nbformat": 4,
 "nbformat_minor": 2
}
