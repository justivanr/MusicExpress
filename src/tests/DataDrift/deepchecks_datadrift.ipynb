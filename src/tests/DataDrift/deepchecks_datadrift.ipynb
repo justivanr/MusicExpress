{
 "cells": [
  {
   "cell_type": "markdown",
   "metadata": {},
   "source": [
    "# Deepchecks for Data Drift Detection"
   ]
  },
  {
   "cell_type": "markdown",
   "metadata": {},
   "source": [
    "In this notebook, we assess our data using the Deepchecks library, specifically utilizing the Tabular Sub-Package for data drift.\n",
    "\n",
    "Drift refers to the evolving pattern of data distribution over time, and it stands out as a primary factor contributing to the deterioration of a machine learning model's performance as time progresses.\n",
    "\n",
    "We first import the needed libraries. If errors related to the deepchecks libray occur, we suggest to install the deepchecks library with pip in your virtual environment. Here is the command you need to run: pip install deepchecks"
   ]
  },
  {
   "cell_type": "code",
   "execution_count": 1,
   "metadata": {},
   "outputs": [
    {
     "name": "stdout",
     "output_type": "stream",
     "text": [
      "Requirement already satisfied: deepchecks in c:\\users\\ivanr\\appdata\\local\\programs\\python\\python311\\lib\\site-packages (0.17.5)\n",
      "Requirement already satisfied: pandas<2.2.0,>=1.1.5 in c:\\users\\ivanr\\appdata\\local\\programs\\python\\python311\\lib\\site-packages (from deepchecks) (2.1.1)\n",
      "Requirement already satisfied: numpy>=1.19 in c:\\users\\ivanr\\appdata\\local\\programs\\python\\python311\\lib\\site-packages (from deepchecks) (1.26.1)\n",
      "Requirement already satisfied: scikit-learn>=0.23.2 in c:\\users\\ivanr\\appdata\\local\\programs\\python\\python311\\lib\\site-packages (from deepchecks) (1.3.1)\n",
      "Requirement already satisfied: jsonpickle>=2 in c:\\users\\ivanr\\appdata\\local\\programs\\python\\python311\\lib\\site-packages (from deepchecks) (3.0.2)\n",
      "Requirement already satisfied: PyNomaly>=0.3.3 in c:\\users\\ivanr\\appdata\\local\\programs\\python\\python311\\lib\\site-packages (from deepchecks) (0.3.3)\n",
      "Requirement already satisfied: typing-extensions>=4.0.0 in c:\\users\\ivanr\\appdata\\local\\programs\\python\\python311\\lib\\site-packages (from deepchecks) (4.9.0)\n",
      "Requirement already satisfied: tqdm>=4.62.3 in c:\\users\\ivanr\\appdata\\local\\programs\\python\\python311\\lib\\site-packages (from deepchecks) (4.66.1)\n",
      "Requirement already satisfied: category-encoders>=2.3.0 in c:\\users\\ivanr\\appdata\\local\\programs\\python\\python311\\lib\\site-packages (from deepchecks) (2.6.3)\n",
      "Requirement already satisfied: scipy<=1.10.1,>=1.4.1 in c:\\users\\ivanr\\appdata\\local\\programs\\python\\python311\\lib\\site-packages (from deepchecks) (1.10.1)\n",
      "Requirement already satisfied: plotly>=5.13.1 in c:\\users\\ivanr\\appdata\\local\\programs\\python\\python311\\lib\\site-packages (from deepchecks) (5.17.0)\n",
      "Requirement already satisfied: matplotlib>=3.3.4 in c:\\users\\ivanr\\appdata\\local\\programs\\python\\python311\\lib\\site-packages (from deepchecks) (3.8.0)\n",
      "Requirement already satisfied: pyzmq<24.0.0 in c:\\users\\ivanr\\appdata\\local\\programs\\python\\python311\\lib\\site-packages (from deepchecks) (23.2.1)\n",
      "Requirement already satisfied: beautifulsoup4>=4.11.1 in c:\\users\\ivanr\\appdata\\local\\programs\\python\\python311\\lib\\site-packages (from deepchecks) (4.12.2)\n",
      "Requirement already satisfied: requests>=2.22.0 in c:\\users\\ivanr\\appdata\\local\\programs\\python\\python311\\lib\\site-packages (from deepchecks) (2.31.0)\n",
      "Requirement already satisfied: statsmodels>=0.13.5 in c:\\users\\ivanr\\appdata\\local\\programs\\python\\python311\\lib\\site-packages (from deepchecks) (0.14.0)\n",
      "Requirement already satisfied: ipython<8,>=7.15.0 in c:\\users\\ivanr\\appdata\\local\\programs\\python\\python311\\lib\\site-packages (from deepchecks) (7.34.0)\n",
      "Requirement already satisfied: ipykernel>=5.3.0 in c:\\users\\ivanr\\appdata\\roaming\\python\\python311\\site-packages (from deepchecks) (6.25.2)\n",
      "Requirement already satisfied: ipywidgets<8,>=7.6.5 in c:\\users\\ivanr\\appdata\\local\\programs\\python\\python311\\lib\\site-packages (from deepchecks) (7.8.1)\n",
      "Requirement already satisfied: soupsieve>1.2 in c:\\users\\ivanr\\appdata\\local\\programs\\python\\python311\\lib\\site-packages (from beautifulsoup4>=4.11.1->deepchecks) (2.5)\n",
      "Requirement already satisfied: patsy>=0.5.1 in c:\\users\\ivanr\\appdata\\local\\programs\\python\\python311\\lib\\site-packages (from category-encoders>=2.3.0->deepchecks) (0.5.3)\n",
      "Requirement already satisfied: comm>=0.1.1 in c:\\users\\ivanr\\appdata\\roaming\\python\\python311\\site-packages (from ipykernel>=5.3.0->deepchecks) (0.1.4)\n",
      "Requirement already satisfied: debugpy>=1.6.5 in c:\\users\\ivanr\\appdata\\roaming\\python\\python311\\site-packages (from ipykernel>=5.3.0->deepchecks) (1.8.0)\n",
      "Requirement already satisfied: jupyter-client>=6.1.12 in c:\\users\\ivanr\\appdata\\local\\programs\\python\\python311\\lib\\site-packages (from ipykernel>=5.3.0->deepchecks) (7.4.9)\n",
      "Requirement already satisfied: jupyter-core!=5.0.*,>=4.12 in c:\\users\\ivanr\\appdata\\roaming\\python\\python311\\site-packages (from ipykernel>=5.3.0->deepchecks) (5.4.0)\n",
      "Requirement already satisfied: matplotlib-inline>=0.1 in c:\\users\\ivanr\\appdata\\roaming\\python\\python311\\site-packages (from ipykernel>=5.3.0->deepchecks) (0.1.6)\n",
      "Requirement already satisfied: nest-asyncio in c:\\users\\ivanr\\appdata\\roaming\\python\\python311\\site-packages (from ipykernel>=5.3.0->deepchecks) (1.5.8)\n",
      "Requirement already satisfied: packaging in c:\\users\\ivanr\\appdata\\roaming\\python\\python311\\site-packages (from ipykernel>=5.3.0->deepchecks) (23.2)\n",
      "Requirement already satisfied: psutil in c:\\users\\ivanr\\appdata\\roaming\\python\\python311\\site-packages (from ipykernel>=5.3.0->deepchecks) (5.9.6)\n",
      "Requirement already satisfied: tornado>=6.1 in c:\\users\\ivanr\\appdata\\roaming\\python\\python311\\site-packages (from ipykernel>=5.3.0->deepchecks) (6.3.3)\n",
      "Requirement already satisfied: traitlets>=5.4.0 in c:\\users\\ivanr\\appdata\\roaming\\python\\python311\\site-packages (from ipykernel>=5.3.0->deepchecks) (5.11.2)\n",
      "Requirement already satisfied: setuptools>=18.5 in c:\\users\\ivanr\\appdata\\local\\programs\\python\\python311\\lib\\site-packages (from ipython<8,>=7.15.0->deepchecks) (65.5.0)\n",
      "Requirement already satisfied: jedi>=0.16 in c:\\users\\ivanr\\appdata\\roaming\\python\\python311\\site-packages (from ipython<8,>=7.15.0->deepchecks) (0.19.1)\n",
      "Requirement already satisfied: decorator in c:\\users\\ivanr\\appdata\\roaming\\python\\python311\\site-packages (from ipython<8,>=7.15.0->deepchecks) (5.1.1)\n",
      "Requirement already satisfied: pickleshare in c:\\users\\ivanr\\appdata\\roaming\\python\\python311\\site-packages (from ipython<8,>=7.15.0->deepchecks) (0.7.5)\n",
      "Requirement already satisfied: prompt-toolkit!=3.0.0,!=3.0.1,<3.1.0,>=2.0.0 in c:\\users\\ivanr\\appdata\\roaming\\python\\python311\\site-packages (from ipython<8,>=7.15.0->deepchecks) (3.0.39)\n",
      "Requirement already satisfied: pygments in c:\\users\\ivanr\\appdata\\roaming\\python\\python311\\site-packages (from ipython<8,>=7.15.0->deepchecks) (2.16.1)\n",
      "Requirement already satisfied: backcall in c:\\users\\ivanr\\appdata\\roaming\\python\\python311\\site-packages (from ipython<8,>=7.15.0->deepchecks) (0.2.0)\n",
      "Requirement already satisfied: colorama in c:\\users\\ivanr\\appdata\\roaming\\python\\python311\\site-packages (from ipython<8,>=7.15.0->deepchecks) (0.4.6)\n",
      "Requirement already satisfied: ipython-genutils~=0.2.0 in c:\\users\\ivanr\\appdata\\local\\programs\\python\\python311\\lib\\site-packages (from ipywidgets<8,>=7.6.5->deepchecks) (0.2.0)\n",
      "Requirement already satisfied: widgetsnbextension~=3.6.6 in c:\\users\\ivanr\\appdata\\local\\programs\\python\\python311\\lib\\site-packages (from ipywidgets<8,>=7.6.5->deepchecks) (3.6.6)\n",
      "Requirement already satisfied: jupyterlab-widgets<3,>=1.0.0 in c:\\users\\ivanr\\appdata\\local\\programs\\python\\python311\\lib\\site-packages (from ipywidgets<8,>=7.6.5->deepchecks) (1.1.7)\n",
      "Requirement already satisfied: contourpy>=1.0.1 in c:\\users\\ivanr\\appdata\\local\\programs\\python\\python311\\lib\\site-packages (from matplotlib>=3.3.4->deepchecks) (1.1.1)\n",
      "Requirement already satisfied: cycler>=0.10 in c:\\users\\ivanr\\appdata\\local\\programs\\python\\python311\\lib\\site-packages (from matplotlib>=3.3.4->deepchecks) (0.12.1)\n",
      "Requirement already satisfied: fonttools>=4.22.0 in c:\\users\\ivanr\\appdata\\local\\programs\\python\\python311\\lib\\site-packages (from matplotlib>=3.3.4->deepchecks) (4.43.1)\n",
      "Requirement already satisfied: kiwisolver>=1.0.1 in c:\\users\\ivanr\\appdata\\local\\programs\\python\\python311\\lib\\site-packages (from matplotlib>=3.3.4->deepchecks) (1.4.5)\n",
      "Requirement already satisfied: pillow>=6.2.0 in c:\\users\\ivanr\\appdata\\local\\programs\\python\\python311\\lib\\site-packages (from matplotlib>=3.3.4->deepchecks) (10.1.0)\n",
      "Requirement already satisfied: pyparsing>=2.3.1 in c:\\users\\ivanr\\appdata\\local\\programs\\python\\python311\\lib\\site-packages (from matplotlib>=3.3.4->deepchecks) (3.1.1)\n",
      "Requirement already satisfied: python-dateutil>=2.7 in c:\\users\\ivanr\\appdata\\roaming\\python\\python311\\site-packages (from matplotlib>=3.3.4->deepchecks) (2.8.2)\n",
      "Requirement already satisfied: pytz>=2020.1 in c:\\users\\ivanr\\appdata\\local\\programs\\python\\python311\\lib\\site-packages (from pandas<2.2.0,>=1.1.5->deepchecks) (2023.3.post1)\n",
      "Requirement already satisfied: tzdata>=2022.1 in c:\\users\\ivanr\\appdata\\local\\programs\\python\\python311\\lib\\site-packages (from pandas<2.2.0,>=1.1.5->deepchecks) (2023.3)\n",
      "Requirement already satisfied: tenacity>=6.2.0 in c:\\users\\ivanr\\appdata\\local\\programs\\python\\python311\\lib\\site-packages (from plotly>=5.13.1->deepchecks) (8.2.3)\n",
      "Requirement already satisfied: python-utils in c:\\users\\ivanr\\appdata\\local\\programs\\python\\python311\\lib\\site-packages (from PyNomaly>=0.3.3->deepchecks) (3.8.1)\n",
      "Requirement already satisfied: charset-normalizer<4,>=2 in c:\\users\\ivanr\\appdata\\local\\programs\\python\\python311\\lib\\site-packages (from requests>=2.22.0->deepchecks) (3.3.0)\n",
      "Requirement already satisfied: idna<4,>=2.5 in c:\\users\\ivanr\\appdata\\local\\programs\\python\\python311\\lib\\site-packages (from requests>=2.22.0->deepchecks) (3.4)\n",
      "Requirement already satisfied: urllib3<3,>=1.21.1 in c:\\users\\ivanr\\appdata\\local\\programs\\python\\python311\\lib\\site-packages (from requests>=2.22.0->deepchecks) (2.0.7)\n",
      "Requirement already satisfied: certifi>=2017.4.17 in c:\\users\\ivanr\\appdata\\local\\programs\\python\\python311\\lib\\site-packages (from requests>=2.22.0->deepchecks) (2023.7.22)\n",
      "Requirement already satisfied: joblib>=1.1.1 in c:\\users\\ivanr\\appdata\\local\\programs\\python\\python311\\lib\\site-packages (from scikit-learn>=0.23.2->deepchecks) (1.3.2)\n",
      "Requirement already satisfied: threadpoolctl>=2.0.0 in c:\\users\\ivanr\\appdata\\local\\programs\\python\\python311\\lib\\site-packages (from scikit-learn>=0.23.2->deepchecks) (3.2.0)\n",
      "Requirement already satisfied: parso<0.9.0,>=0.8.3 in c:\\users\\ivanr\\appdata\\roaming\\python\\python311\\site-packages (from jedi>=0.16->ipython<8,>=7.15.0->deepchecks) (0.8.3)\n",
      "Requirement already satisfied: entrypoints in c:\\users\\ivanr\\appdata\\local\\programs\\python\\python311\\lib\\site-packages (from jupyter-client>=6.1.12->ipykernel>=5.3.0->deepchecks) (0.4)\n",
      "Requirement already satisfied: platformdirs>=2.5 in c:\\users\\ivanr\\appdata\\roaming\\python\\python311\\site-packages (from jupyter-core!=5.0.*,>=4.12->ipykernel>=5.3.0->deepchecks) (3.11.0)\n",
      "Requirement already satisfied: pywin32>=300 in c:\\users\\ivanr\\appdata\\roaming\\python\\python311\\site-packages (from jupyter-core!=5.0.*,>=4.12->ipykernel>=5.3.0->deepchecks) (306)\n",
      "Requirement already satisfied: six in c:\\users\\ivanr\\appdata\\roaming\\python\\python311\\site-packages (from patsy>=0.5.1->category-encoders>=2.3.0->deepchecks) (1.16.0)\n",
      "Requirement already satisfied: wcwidth in c:\\users\\ivanr\\appdata\\roaming\\python\\python311\\site-packages (from prompt-toolkit!=3.0.0,!=3.0.1,<3.1.0,>=2.0.0->ipython<8,>=7.15.0->deepchecks) (0.2.8)\n",
      "Requirement already satisfied: notebook>=4.4.1 in c:\\users\\ivanr\\appdata\\local\\programs\\python\\python311\\lib\\site-packages (from widgetsnbextension~=3.6.6->ipywidgets<8,>=7.6.5->deepchecks) (6.5.6)\n",
      "Requirement already satisfied: jinja2 in c:\\users\\ivanr\\appdata\\local\\programs\\python\\python311\\lib\\site-packages (from notebook>=4.4.1->widgetsnbextension~=3.6.6->ipywidgets<8,>=7.6.5->deepchecks) (3.1.2)\n",
      "Requirement already satisfied: argon2-cffi in c:\\users\\ivanr\\appdata\\local\\programs\\python\\python311\\lib\\site-packages (from notebook>=4.4.1->widgetsnbextension~=3.6.6->ipywidgets<8,>=7.6.5->deepchecks) (23.1.0)\n",
      "Requirement already satisfied: nbformat in c:\\users\\ivanr\\appdata\\local\\programs\\python\\python311\\lib\\site-packages (from notebook>=4.4.1->widgetsnbextension~=3.6.6->ipywidgets<8,>=7.6.5->deepchecks) (5.9.2)\n",
      "Requirement already satisfied: nbconvert>=5 in c:\\users\\ivanr\\appdata\\local\\programs\\python\\python311\\lib\\site-packages (from notebook>=4.4.1->widgetsnbextension~=3.6.6->ipywidgets<8,>=7.6.5->deepchecks) (7.13.0)\n",
      "Requirement already satisfied: Send2Trash>=1.8.0 in c:\\users\\ivanr\\appdata\\local\\programs\\python\\python311\\lib\\site-packages (from notebook>=4.4.1->widgetsnbextension~=3.6.6->ipywidgets<8,>=7.6.5->deepchecks) (1.8.2)\n",
      "Requirement already satisfied: terminado>=0.8.3 in c:\\users\\ivanr\\appdata\\local\\programs\\python\\python311\\lib\\site-packages (from notebook>=4.4.1->widgetsnbextension~=3.6.6->ipywidgets<8,>=7.6.5->deepchecks) (0.18.0)\n",
      "Requirement already satisfied: prometheus-client in c:\\users\\ivanr\\appdata\\local\\programs\\python\\python311\\lib\\site-packages (from notebook>=4.4.1->widgetsnbextension~=3.6.6->ipywidgets<8,>=7.6.5->deepchecks) (0.19.0)\n",
      "Requirement already satisfied: nbclassic>=0.4.7 in c:\\users\\ivanr\\appdata\\local\\programs\\python\\python311\\lib\\site-packages (from notebook>=4.4.1->widgetsnbextension~=3.6.6->ipywidgets<8,>=7.6.5->deepchecks) (1.0.0)\n",
      "Requirement already satisfied: jupyter-server>=1.8 in c:\\users\\ivanr\\appdata\\local\\programs\\python\\python311\\lib\\site-packages (from nbclassic>=0.4.7->notebook>=4.4.1->widgetsnbextension~=3.6.6->ipywidgets<8,>=7.6.5->deepchecks) (1.24.0)\n",
      "Requirement already satisfied: notebook-shim>=0.2.3 in c:\\users\\ivanr\\appdata\\local\\programs\\python\\python311\\lib\\site-packages (from nbclassic>=0.4.7->notebook>=4.4.1->widgetsnbextension~=3.6.6->ipywidgets<8,>=7.6.5->deepchecks) (0.2.3)\n",
      "Requirement already satisfied: bleach!=5.0.0 in c:\\users\\ivanr\\appdata\\local\\programs\\python\\python311\\lib\\site-packages (from nbconvert>=5->notebook>=4.4.1->widgetsnbextension~=3.6.6->ipywidgets<8,>=7.6.5->deepchecks) (6.1.0)\n",
      "Requirement already satisfied: defusedxml in c:\\users\\ivanr\\appdata\\local\\programs\\python\\python311\\lib\\site-packages (from nbconvert>=5->notebook>=4.4.1->widgetsnbextension~=3.6.6->ipywidgets<8,>=7.6.5->deepchecks) (0.7.1)\n",
      "Requirement already satisfied: jupyterlab-pygments in c:\\users\\ivanr\\appdata\\local\\programs\\python\\python311\\lib\\site-packages (from nbconvert>=5->notebook>=4.4.1->widgetsnbextension~=3.6.6->ipywidgets<8,>=7.6.5->deepchecks) (0.3.0)\n",
      "Requirement already satisfied: markupsafe>=2.0 in c:\\users\\ivanr\\appdata\\local\\programs\\python\\python311\\lib\\site-packages (from nbconvert>=5->notebook>=4.4.1->widgetsnbextension~=3.6.6->ipywidgets<8,>=7.6.5->deepchecks) (2.1.3)\n",
      "Requirement already satisfied: mistune<4,>=2.0.3 in c:\\users\\ivanr\\appdata\\local\\programs\\python\\python311\\lib\\site-packages (from nbconvert>=5->notebook>=4.4.1->widgetsnbextension~=3.6.6->ipywidgets<8,>=7.6.5->deepchecks) (3.0.2)\n",
      "Requirement already satisfied: nbclient>=0.5.0 in c:\\users\\ivanr\\appdata\\local\\programs\\python\\python311\\lib\\site-packages (from nbconvert>=5->notebook>=4.4.1->widgetsnbextension~=3.6.6->ipywidgets<8,>=7.6.5->deepchecks) (0.9.0)\n",
      "Requirement already satisfied: pandocfilters>=1.4.1 in c:\\users\\ivanr\\appdata\\local\\programs\\python\\python311\\lib\\site-packages (from nbconvert>=5->notebook>=4.4.1->widgetsnbextension~=3.6.6->ipywidgets<8,>=7.6.5->deepchecks) (1.5.0)\n",
      "Requirement already satisfied: tinycss2 in c:\\users\\ivanr\\appdata\\local\\programs\\python\\python311\\lib\\site-packages (from nbconvert>=5->notebook>=4.4.1->widgetsnbextension~=3.6.6->ipywidgets<8,>=7.6.5->deepchecks) (1.2.1)\n",
      "Requirement already satisfied: fastjsonschema in c:\\users\\ivanr\\appdata\\local\\programs\\python\\python311\\lib\\site-packages (from nbformat->notebook>=4.4.1->widgetsnbextension~=3.6.6->ipywidgets<8,>=7.6.5->deepchecks) (2.18.1)\n",
      "Requirement already satisfied: jsonschema>=2.6 in c:\\users\\ivanr\\appdata\\local\\programs\\python\\python311\\lib\\site-packages (from nbformat->notebook>=4.4.1->widgetsnbextension~=3.6.6->ipywidgets<8,>=7.6.5->deepchecks) (4.19.1)\n",
      "Requirement already satisfied: pywinpty>=1.1.0 in c:\\users\\ivanr\\appdata\\local\\programs\\python\\python311\\lib\\site-packages (from terminado>=0.8.3->notebook>=4.4.1->widgetsnbextension~=3.6.6->ipywidgets<8,>=7.6.5->deepchecks) (2.0.12)\n",
      "Requirement already satisfied: argon2-cffi-bindings in c:\\users\\ivanr\\appdata\\local\\programs\\python\\python311\\lib\\site-packages (from argon2-cffi->notebook>=4.4.1->widgetsnbextension~=3.6.6->ipywidgets<8,>=7.6.5->deepchecks) (21.2.0)\n",
      "Requirement already satisfied: webencodings in c:\\users\\ivanr\\appdata\\local\\programs\\python\\python311\\lib\\site-packages (from bleach!=5.0.0->nbconvert>=5->notebook>=4.4.1->widgetsnbextension~=3.6.6->ipywidgets<8,>=7.6.5->deepchecks) (0.5.1)\n",
      "Requirement already satisfied: attrs>=22.2.0 in c:\\users\\ivanr\\appdata\\local\\programs\\python\\python311\\lib\\site-packages (from jsonschema>=2.6->nbformat->notebook>=4.4.1->widgetsnbextension~=3.6.6->ipywidgets<8,>=7.6.5->deepchecks) (23.1.0)\n",
      "Requirement already satisfied: jsonschema-specifications>=2023.03.6 in c:\\users\\ivanr\\appdata\\local\\programs\\python\\python311\\lib\\site-packages (from jsonschema>=2.6->nbformat->notebook>=4.4.1->widgetsnbextension~=3.6.6->ipywidgets<8,>=7.6.5->deepchecks) (2023.7.1)\n",
      "Requirement already satisfied: referencing>=0.28.4 in c:\\users\\ivanr\\appdata\\local\\programs\\python\\python311\\lib\\site-packages (from jsonschema>=2.6->nbformat->notebook>=4.4.1->widgetsnbextension~=3.6.6->ipywidgets<8,>=7.6.5->deepchecks) (0.30.2)\n",
      "Requirement already satisfied: rpds-py>=0.7.1 in c:\\users\\ivanr\\appdata\\local\\programs\\python\\python311\\lib\\site-packages (from jsonschema>=2.6->nbformat->notebook>=4.4.1->widgetsnbextension~=3.6.6->ipywidgets<8,>=7.6.5->deepchecks) (0.10.6)\n",
      "Requirement already satisfied: anyio<4,>=3.1.0 in c:\\users\\ivanr\\appdata\\local\\programs\\python\\python311\\lib\\site-packages (from jupyter-server>=1.8->nbclassic>=0.4.7->notebook>=4.4.1->widgetsnbextension~=3.6.6->ipywidgets<8,>=7.6.5->deepchecks) (3.7.1)\n",
      "Requirement already satisfied: websocket-client in c:\\users\\ivanr\\appdata\\local\\programs\\python\\python311\\lib\\site-packages (from jupyter-server>=1.8->nbclassic>=0.4.7->notebook>=4.4.1->widgetsnbextension~=3.6.6->ipywidgets<8,>=7.6.5->deepchecks) (1.7.0)\n",
      "Requirement already satisfied: cffi>=1.0.1 in c:\\users\\ivanr\\appdata\\local\\programs\\python\\python311\\lib\\site-packages (from argon2-cffi-bindings->argon2-cffi->notebook>=4.4.1->widgetsnbextension~=3.6.6->ipywidgets<8,>=7.6.5->deepchecks) (1.16.0)\n",
      "Requirement already satisfied: sniffio>=1.1 in c:\\users\\ivanr\\appdata\\local\\programs\\python\\python311\\lib\\site-packages (from anyio<4,>=3.1.0->jupyter-server>=1.8->nbclassic>=0.4.7->notebook>=4.4.1->widgetsnbextension~=3.6.6->ipywidgets<8,>=7.6.5->deepchecks) (1.3.0)\n",
      "Requirement already satisfied: pycparser in c:\\users\\ivanr\\appdata\\local\\programs\\python\\python311\\lib\\site-packages (from cffi>=1.0.1->argon2-cffi-bindings->argon2-cffi->notebook>=4.4.1->widgetsnbextension~=3.6.6->ipywidgets<8,>=7.6.5->deepchecks) (2.21)\n",
      "Note: you may need to restart the kernel to use updated packages.\n"
     ]
    },
    {
     "name": "stderr",
     "output_type": "stream",
     "text": [
      "\n",
      "[notice] A new release of pip is available: 23.3 -> 23.3.2\n",
      "[notice] To update, run: python.exe -m pip install --upgrade pip\n"
     ]
    }
   ],
   "source": [
    "%pip install deepchecks"
   ]
  },
  {
   "cell_type": "code",
   "execution_count": 2,
   "metadata": {},
   "outputs": [],
   "source": [
    "import pandas as pd\n",
    "import os\n",
    "import sys\n",
    "import pandas as pd\n",
    "from deepchecks.tabular.checks import FeatureDrift\n",
    "from deepchecks.tabular.checks import MultivariateDrift\n",
    "from deepchecks.tabular import Dataset"
   ]
  },
  {
   "cell_type": "markdown",
   "metadata": {},
   "source": [
    "# Datasets"
   ]
  },
  {
   "cell_type": "markdown",
   "metadata": {},
   "source": [
    "In this section, we define the file paths for both the train and test sets (default playlists) and proceed to load them for the purpose of detecting data drifts."
   ]
  },
  {
   "cell_type": "code",
   "execution_count": 3,
   "metadata": {},
   "outputs": [],
   "source": [
    "current_dir = os.getcwd()\n",
    "two_levels_up = os.path.dirname(os.path.dirname(current_dir))\n",
    "sys.path.insert(0, two_levels_up)\n",
    "import conf"
   ]
  },
  {
   "cell_type": "code",
   "execution_count": 4,
   "metadata": {},
   "outputs": [],
   "source": [
    "three_levels_up = os.path.dirname(os.path.dirname(os.path.dirname(current_dir)))\n",
    "sys.path.insert(0, three_levels_up)"
   ]
  },
  {
   "cell_type": "code",
   "execution_count": 5,
   "metadata": {},
   "outputs": [],
   "source": [
    "processed_train_data_directory = three_levels_up + '/'+ conf.PRO_DATA_DIR + 'trainSet.csv'\n",
    "processed_test_data_directory = three_levels_up + '/'+ conf.PRO_DATA_DIR + 'testSet.csv'"
   ]
  },
  {
   "cell_type": "code",
   "execution_count": 6,
   "metadata": {},
   "outputs": [],
   "source": [
    "df_processed_train = pd.read_csv(processed_train_data_directory)\n",
    "df_processed_test = pd.read_csv(processed_test_data_directory)"
   ]
  },
  {
   "cell_type": "code",
   "execution_count": 7,
   "metadata": {},
   "outputs": [],
   "source": [
    "ds_processed_train = Dataset(df_processed_train, cat_features=['Name','Artist'])\n",
    "ds_processed_test = Dataset(df_processed_test, cat_features=['Name','Artist'])"
   ]
  },
  {
   "cell_type": "markdown",
   "metadata": {},
   "source": [
    "# With Categorical Features"
   ]
  },
  {
   "cell_type": "markdown",
   "metadata": {},
   "source": [
    "In this section we will check data drift on the full dataset including the categorical features (Song's Name and Artist)."
   ]
  },
  {
   "cell_type": "markdown",
   "metadata": {},
   "source": [
    "## Univariate Drift"
   ]
  },
  {
   "cell_type": "markdown",
   "metadata": {},
   "source": [
    "The simplest drift detection method involves assessing one variable at a time. Measures like Kolmogorov-Smirnov test, Jensen-Shannon Divergence, etc., are used to gauge differences between newer and older samples of the variable. In deepchecks, optimal results are obtained with:\n",
    "\n",
    "- For continuous numeric distributions: Kolmogorov-Smirnov statistic or Wasserstein metric (Earth Movers Distance)\n",
    "- For discrete or categorical distributions: Cramer’s V or Population Stability Index (PSI)\n",
    "\n",
    "While these methods offer simplicity and explainable results, they check each feature individually and may miss drift in feature relationships."
   ]
  },
  {
   "cell_type": "code",
   "execution_count": 8,
   "metadata": {},
   "outputs": [
    {
     "data": {
      "application/vnd.jupyter.widget-view+json": {
       "model_id": "ea359f8dac444fe1a5c1827f4325eae4",
       "version_major": 2,
       "version_minor": 0
      },
      "text/plain": [
       "VBox(children=(HTML(value='<h4><b>Feature Drift</b></h4>'), HTML(value='<p>    Calculate drift between train d…"
      ]
     },
     "metadata": {},
     "output_type": "display_data"
    }
   ],
   "source": [
    "check = FeatureDrift()\n",
    "result = check.run(train_dataset=ds_processed_train, test_dataset=ds_processed_test)\n",
    "result.show()"
   ]
  },
  {
   "cell_type": "markdown",
   "metadata": {},
   "source": [
    "## Multivariate Drift"
   ]
  },
  {
   "cell_type": "markdown",
   "metadata": {},
   "source": [
    "Multivariate drift refers to changes occurring simultaneously in multiple features, potentially impacting the relationships among those features. Univariate drift methods, which examine one feature at a time, may overlook such interconnected changes. The multivariate drift check aims to identify and assess drift across multiple features within two input datasets. This check detects multivariate drift by using a domain classifier."
   ]
  },
  {
   "cell_type": "code",
   "execution_count": 9,
   "metadata": {},
   "outputs": [
    {
     "data": {
      "application/vnd.jupyter.widget-view+json": {
       "model_id": "7cee0598e342496c9dafd96f95686be3",
       "version_major": 2,
       "version_minor": 0
      },
      "text/plain": [
       "VBox(children=(HTML(value='<h4><b>Multivariate Drift</b></h4>'), HTML(value='<p>    Calculate drift between th…"
      ]
     },
     "metadata": {},
     "output_type": "display_data"
    }
   ],
   "source": [
    "check = MultivariateDrift()\n",
    "check.run(train_dataset=ds_processed_train, test_dataset=ds_processed_test)"
   ]
  },
  {
   "cell_type": "markdown",
   "metadata": {},
   "source": [
    "# Numerical Features Only"
   ]
  },
  {
   "cell_type": "markdown",
   "metadata": {},
   "source": [
    "In this section, we will exclusively assess data drift in the numerical features present in our dataset. We are excluding categorical features since the current model utilizes only numerical features to generate clusters."
   ]
  },
  {
   "cell_type": "markdown",
   "metadata": {},
   "source": [
    "## Loading Dataset"
   ]
  },
  {
   "cell_type": "markdown",
   "metadata": {},
   "source": [
    "We reload the data, this time excluding the \"Artist\" and \"Name\" columns."
   ]
  },
  {
   "cell_type": "code",
   "execution_count": 10,
   "metadata": {},
   "outputs": [
    {
     "data": {
      "text/html": [
       "<div>\n",
       "<style scoped>\n",
       "    .dataframe tbody tr th:only-of-type {\n",
       "        vertical-align: middle;\n",
       "    }\n",
       "\n",
       "    .dataframe tbody tr th {\n",
       "        vertical-align: top;\n",
       "    }\n",
       "\n",
       "    .dataframe thead th {\n",
       "        text-align: right;\n",
       "    }\n",
       "</style>\n",
       "<table border=\"1\" class=\"dataframe\">\n",
       "  <thead>\n",
       "    <tr style=\"text-align: right;\">\n",
       "      <th></th>\n",
       "      <th>Energy</th>\n",
       "      <th>Liveness</th>\n",
       "      <th>Loudness</th>\n",
       "    </tr>\n",
       "  </thead>\n",
       "  <tbody>\n",
       "    <tr>\n",
       "      <th>0</th>\n",
       "      <td>0.418</td>\n",
       "      <td>0.159</td>\n",
       "      <td>0.671575</td>\n",
       "    </tr>\n",
       "    <tr>\n",
       "      <th>1</th>\n",
       "      <td>0.910</td>\n",
       "      <td>0.252</td>\n",
       "      <td>0.897120</td>\n",
       "    </tr>\n",
       "    <tr>\n",
       "      <th>2</th>\n",
       "      <td>0.423</td>\n",
       "      <td>0.143</td>\n",
       "      <td>0.691744</td>\n",
       "    </tr>\n",
       "    <tr>\n",
       "      <th>3</th>\n",
       "      <td>0.859</td>\n",
       "      <td>0.127</td>\n",
       "      <td>0.794126</td>\n",
       "    </tr>\n",
       "    <tr>\n",
       "      <th>4</th>\n",
       "      <td>0.899</td>\n",
       "      <td>0.241</td>\n",
       "      <td>0.756586</td>\n",
       "    </tr>\n",
       "    <tr>\n",
       "      <th>...</th>\n",
       "      <td>...</td>\n",
       "      <td>...</td>\n",
       "      <td>...</td>\n",
       "    </tr>\n",
       "    <tr>\n",
       "      <th>605</th>\n",
       "      <td>0.835</td>\n",
       "      <td>0.155</td>\n",
       "      <td>0.848115</td>\n",
       "    </tr>\n",
       "    <tr>\n",
       "      <th>606</th>\n",
       "      <td>0.801</td>\n",
       "      <td>0.108</td>\n",
       "      <td>0.791058</td>\n",
       "    </tr>\n",
       "    <tr>\n",
       "      <th>607</th>\n",
       "      <td>0.748</td>\n",
       "      <td>0.129</td>\n",
       "      <td>0.845661</td>\n",
       "    </tr>\n",
       "    <tr>\n",
       "      <th>608</th>\n",
       "      <td>0.967</td>\n",
       "      <td>0.203</td>\n",
       "      <td>0.889835</td>\n",
       "    </tr>\n",
       "    <tr>\n",
       "      <th>609</th>\n",
       "      <td>0.873</td>\n",
       "      <td>0.136</td>\n",
       "      <td>0.805667</td>\n",
       "    </tr>\n",
       "  </tbody>\n",
       "</table>\n",
       "<p>610 rows × 3 columns</p>\n",
       "</div>"
      ],
      "text/plain": [
       "     Energy  Liveness  Loudness\n",
       "0     0.418     0.159  0.671575\n",
       "1     0.910     0.252  0.897120\n",
       "2     0.423     0.143  0.691744\n",
       "3     0.859     0.127  0.794126\n",
       "4     0.899     0.241  0.756586\n",
       "..      ...       ...       ...\n",
       "605   0.835     0.155  0.848115\n",
       "606   0.801     0.108  0.791058\n",
       "607   0.748     0.129  0.845661\n",
       "608   0.967     0.203  0.889835\n",
       "609   0.873     0.136  0.805667\n",
       "\n",
       "[610 rows x 3 columns]"
      ]
     },
     "execution_count": 10,
     "metadata": {},
     "output_type": "execute_result"
    }
   ],
   "source": [
    "df_processed_train = pd.read_csv(processed_train_data_directory)\n",
    "df_processed_train = df_processed_train.drop(['Artist', 'Name'], axis=1)\n",
    "df_processed_train"
   ]
  },
  {
   "cell_type": "code",
   "execution_count": 11,
   "metadata": {},
   "outputs": [],
   "source": [
    "df_processed_test = pd.read_csv(processed_test_data_directory)\n",
    "df_processed_test = df_processed_test.drop(['Artist', 'Name'], axis=1)"
   ]
  },
  {
   "cell_type": "code",
   "execution_count": 12,
   "metadata": {},
   "outputs": [
    {
     "name": "stderr",
     "output_type": "stream",
     "text": [
      "deepchecks - WARNING - It is recommended to initialize Dataset with categorical features by doing \"Dataset(df, cat_features=categorical_list)\". No categorical features were passed, therefore heuristically inferring categorical features in the data. 0 categorical features were inferred.\n",
      "deepchecks - WARNING - It is recommended to initialize Dataset with categorical features by doing \"Dataset(df, cat_features=categorical_list)\". No categorical features were passed, therefore heuristically inferring categorical features in the data. 0 categorical features were inferred.\n"
     ]
    }
   ],
   "source": [
    "ds_processed_train = Dataset(df_processed_train)\n",
    "ds_processed_test = Dataset(df_processed_test)"
   ]
  },
  {
   "cell_type": "markdown",
   "metadata": {},
   "source": [
    "## Univariate Drift"
   ]
  },
  {
   "cell_type": "markdown",
   "metadata": {},
   "source": [
    "The simplest drift detection method involves assessing one variable at a time. Measures like Kolmogorov-Smirnov test, Jensen-Shannon Divergence, etc., are used to gauge differences between newer and older samples of the variable. In deepchecks, optimal results are obtained with:\n",
    "\n",
    "- For continuous numeric distributions: Kolmogorov-Smirnov statistic or Wasserstein metric (Earth Movers Distance)\n",
    "- For discrete or categorical distributions: Cramer’s V or Population Stability Index (PSI)\n",
    "\n",
    "While these methods offer simplicity and explainable results, they check each feature individually and may miss drift in feature relationships."
   ]
  },
  {
   "cell_type": "code",
   "execution_count": 13,
   "metadata": {},
   "outputs": [
    {
     "data": {
      "application/vnd.jupyter.widget-view+json": {
       "model_id": "8f54b5323c294b6c97d9c91f735f3b68",
       "version_major": 2,
       "version_minor": 0
      },
      "text/plain": [
       "VBox(children=(HTML(value='<h4><b>Feature Drift</b></h4>'), HTML(value='<p>    Calculate drift between train d…"
      ]
     },
     "metadata": {},
     "output_type": "display_data"
    }
   ],
   "source": [
    "check = FeatureDrift()\n",
    "result = check.run(train_dataset=ds_processed_train, test_dataset=ds_processed_test)\n",
    "result.show()"
   ]
  },
  {
   "cell_type": "markdown",
   "metadata": {},
   "source": [
    "## Multivariate Drift"
   ]
  },
  {
   "cell_type": "markdown",
   "metadata": {},
   "source": [
    "\n",
    "Multivariate drift refers to changes occurring simultaneously in multiple features, potentially impacting the relationships among those features. Univariate drift methods, which examine one feature at a time, may overlook such interconnected changes. The multivariate drift check aims to identify and assess drift across multiple features within two input datasets. This check detects multivariate drift by using a domain classifier."
   ]
  },
  {
   "cell_type": "code",
   "execution_count": 14,
   "metadata": {},
   "outputs": [
    {
     "data": {
      "application/vnd.jupyter.widget-view+json": {
       "model_id": "04ea82910bfe42b3a9e4d9078f436a27",
       "version_major": 2,
       "version_minor": 0
      },
      "text/plain": [
       "VBox(children=(HTML(value='<h4><b>Multivariate Drift</b></h4>'), HTML(value='<p>    Calculate drift between th…"
      ]
     },
     "metadata": {},
     "output_type": "display_data"
    }
   ],
   "source": [
    "check = MultivariateDrift()\n",
    "check.run(train_dataset=ds_processed_train, test_dataset=ds_processed_test)"
   ]
  }
 ],
 "metadata": {
  "kernelspec": {
   "display_name": "env",
   "language": "python",
   "name": "python3"
  },
  "language_info": {
   "codemirror_mode": {
    "name": "ipython",
    "version": 3
   },
   "file_extension": ".py",
   "mimetype": "text/x-python",
   "name": "python",
   "nbconvert_exporter": "python",
   "pygments_lexer": "ipython3",
   "version": "3.11.5"
  }
 },
 "nbformat": 4,
 "nbformat_minor": 2
}
